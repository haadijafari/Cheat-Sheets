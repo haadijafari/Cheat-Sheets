{
 "cells": [
  {
   "cell_type": "markdown",
   "id": "21c97f63",
   "metadata": {},
   "source": [
    "# Set Theory\n",
    "1. Initial\n",
    "   * Create Set\n",
    "   * Add to Set\n",
    "   * Remove from SEt\n",
    "   * Update Set\n",
    "2. Operator\n",
    "   * Intersection\n",
    "   * Union\n",
    "   * Difference\n",
    "   * Symmetric Difference (A ∪ B - A ∩ B)\n",
    "   * Product\n",
    "3. Checking\n",
    "   * Membership\n",
    "   * Disjoint\n",
    "   * Subset\n",
    "   * Superset\n",
    "   * Complement\n",
    "   * PowerSet"
   ]
  },
  {
   "cell_type": "markdown",
   "id": "4cc383d9",
   "metadata": {},
   "source": [
    "## Initial"
   ]
  },
  {
   "cell_type": "code",
   "execution_count": null,
   "id": "b07d67ad",
   "metadata": {},
   "outputs": [],
   "source": [
    "# Create Set\n",
    "\n",
    "numbers = set()\n",
    "grades = {20, 19, 18}\n",
    "nums = [1, 2, 3, 4, 5, 5, 6]\n",
    "nums_set = set(nums)"
   ]
  },
  {
   "cell_type": "code",
   "execution_count": null,
   "id": "e3725ce3",
   "metadata": {},
   "outputs": [
    {
     "name": "stdout",
     "output_type": "stream",
     "text": [
      "{1, 2, 3, 4, 5}\n"
     ]
    }
   ],
   "source": [
    "# Add to Set\n",
    "\n",
    "numbers = set()\n",
    "for i in range(1,6):\n",
    "    numbers.add(i)\n",
    "\n",
    "print(numbers)"
   ]
  },
  {
   "cell_type": "code",
   "execution_count": null,
   "id": "27f46653",
   "metadata": {},
   "outputs": [
    {
     "name": "stdout",
     "output_type": "stream",
     "text": [
      "{1, 3, 4, 5}\n"
     ]
    }
   ],
   "source": [
    "# Remove from Set\n",
    "\n",
    "numbers.remove(2)\n",
    "print(numbers)\n",
    "numbers.remove(2)\n",
    "print(numbers)"
   ]
  },
  {
   "cell_type": "code",
   "execution_count": 7,
   "id": "361400bc",
   "metadata": {},
   "outputs": [
    {
     "name": "stdout",
     "output_type": "stream",
     "text": [
      "{3, 4, 5}\n",
      "{3, 4, 5}\n"
     ]
    }
   ],
   "source": [
    "# Remove from Set\n",
    "\n",
    "numbers.discard(1)\n",
    "print(numbers)\n",
    "numbers.discard(1)\n",
    "print(numbers)"
   ]
  },
  {
   "cell_type": "code",
   "execution_count": 8,
   "id": "b35726f8",
   "metadata": {},
   "outputs": [
    {
     "name": "stdout",
     "output_type": "stream",
     "text": [
      "{1, 2, 3, 4, 5, 6, 7} {4, 5, 6, 7}\n"
     ]
    }
   ],
   "source": [
    "# Update Set\n",
    "set_1 ={1, 2, 3, 4}\n",
    "set_2 ={4, 5, 6, 7}\n",
    "\n",
    "set_1.update(set_2)\n",
    "\n",
    "print(set_1, set_2)"
   ]
  },
  {
   "cell_type": "markdown",
   "id": "ec3816ba",
   "metadata": {},
   "source": [
    "## Operator"
   ]
  },
  {
   "cell_type": "code",
   "execution_count": 10,
   "id": "88bb441f",
   "metadata": {},
   "outputs": [
    {
     "name": "stdout",
     "output_type": "stream",
     "text": [
      "{4}\n",
      "{4}\n"
     ]
    }
   ],
   "source": [
    "#Intersection\n",
    "\n",
    "set_1 ={1, 2, 3, 4}\n",
    "set_2 ={4, 5, 6, 7}\n",
    "\n",
    "print(set_1.intersection(set_2))\n",
    "print(set_1 & set_2)"
   ]
  },
  {
   "cell_type": "code",
   "execution_count": 12,
   "id": "aafb4178",
   "metadata": {},
   "outputs": [
    {
     "name": "stdout",
     "output_type": "stream",
     "text": [
      "{1, 2, 3, 4, 5, 6, 7}\n",
      "{1, 2, 3, 4, 5, 6, 7}\n"
     ]
    }
   ],
   "source": [
    "# Union\n",
    "\n",
    "set_1 ={1, 2, 3, 4}\n",
    "set_2 ={4, 5, 6, 7}\n",
    "\n",
    "print(set_1.union(set_2))\n",
    "print(set_1 | set_2)"
   ]
  },
  {
   "cell_type": "code",
   "execution_count": 14,
   "id": "1ab141a7",
   "metadata": {},
   "outputs": [
    {
     "name": "stdout",
     "output_type": "stream",
     "text": [
      "{1, 2, 3}\n",
      "{1, 2, 3}\n",
      "{5, 6, 7}\n",
      "{5, 6, 7}\n"
     ]
    }
   ],
   "source": [
    "# Difference\n",
    "\n",
    "set_1 ={1, 2, 3, 4}\n",
    "set_2 ={4, 5, 6, 7}\n",
    "\n",
    "print(set_1.difference(set_2))\n",
    "print(set_1 - set_2)\n",
    "\n",
    "print(set_2.difference(set_1))\n",
    "print(set_2 - set_1)"
   ]
  },
  {
   "cell_type": "code",
   "execution_count": 15,
   "id": "01dd6b62",
   "metadata": {},
   "outputs": [
    {
     "name": "stdout",
     "output_type": "stream",
     "text": [
      "{1, 2, 3, 5, 6, 7}\n",
      "{1, 2, 3, 5, 6, 7}\n"
     ]
    }
   ],
   "source": [
    "# Symmetric Difference\n",
    "\n",
    "set_1 ={1, 2, 3, 4}\n",
    "set_2 ={4, 5, 6, 7}\n",
    "\n",
    "print(set_1.symmetric_difference(set_2))\n",
    "print(set_1 ^ set_2)"
   ]
  },
  {
   "cell_type": "code",
   "execution_count": null,
   "id": "9275d910",
   "metadata": {},
   "outputs": [
    {
     "name": "stdout",
     "output_type": "stream",
     "text": [
      "[(1, 4), (1, 5), (1, 6), (1, 7), (2, 4), (2, 5), (2, 6), (2, 7), (3, 4), (3, 5), (3, 6), (3, 7), (4, 4), (4, 5), (4, 6), (4, 7)]\n",
      "[(1, 4), (1, 5), (1, 6), (1, 7), (2, 4), (2, 5), (2, 6), (2, 7), (3, 4), (3, 5), (3, 6), (3, 7), (4, 4), (4, 5), (4, 6), (4, 7)]\n"
     ]
    }
   ],
   "source": [
    "# Product (Cartesian)\n",
    "\n",
    "set_1 ={1, 2, 3, 4}\n",
    "set_2 ={4, 5, 6, 7}\n",
    "\n",
    "result = []\n",
    "for i in set_1:\n",
    "    for j in set_2:\n",
    "        result.append((i, j))\n",
    "\n",
    "print(result)\n",
    "\n",
    "from itertools import product\n",
    "print(list(product(set_1, set_2)))"
   ]
  },
  {
   "cell_type": "markdown",
   "id": "0208fead",
   "metadata": {},
   "source": [
    "## Checking"
   ]
  },
  {
   "cell_type": "code",
   "execution_count": 21,
   "id": "922d317f",
   "metadata": {},
   "outputs": [
    {
     "name": "stdout",
     "output_type": "stream",
     "text": [
      "True\n",
      "False\n",
      "True\n"
     ]
    }
   ],
   "source": [
    "# Membership\n",
    "\n",
    "set_1 = {1, 2, 3, 4}\n",
    "\n",
    "print(1 in set_1)\n",
    "print(5 in set_1)\n",
    "print(5 not in set_1)"
   ]
  },
  {
   "cell_type": "code",
   "execution_count": 26,
   "id": "c72b626e",
   "metadata": {},
   "outputs": [
    {
     "name": "stdout",
     "output_type": "stream",
     "text": [
      "True\n",
      "True\n",
      "True\n"
     ]
    }
   ],
   "source": [
    "# Disjoint (Two sets are said to be disjoint when they have no common element.)\n",
    "\n",
    "set_1 = {1, 2, 3}\n",
    "set_2 = {4, 5, 6}\n",
    "\n",
    "print(set_1.intersection(set_2) == set())\n",
    "print(set_1 & set_2 == set())\n",
    "print(set_1.isdisjoint(set_2))"
   ]
  },
  {
   "cell_type": "code",
   "execution_count": null,
   "id": "84d3c9f4",
   "metadata": {},
   "outputs": [
    {
     "name": "stdout",
     "output_type": "stream",
     "text": [
      "True\n",
      "True\n"
     ]
    }
   ],
   "source": [
    "# Subset / Superset\n",
    "\n",
    "set_1 = {1, 2, 3, 4}\n",
    "set_2 = {3, 4}\n",
    "\n",
    "print(set_2.issubset(set_1))\n",
    "print(set_1.issuperset(set_2))"
   ]
  },
  {
   "cell_type": "code",
   "execution_count": 31,
   "id": "0471490b",
   "metadata": {},
   "outputs": [
    {
     "name": "stdout",
     "output_type": "stream",
     "text": [
      "{1, 2, 3, 7, 8, 9, 10}\n"
     ]
    }
   ],
   "source": [
    "# Complement\n",
    "\n",
    "U = set(range(1, 11))\n",
    "s = {4, 5, 6}\n",
    "\n",
    "print(U - s)"
   ]
  },
  {
   "cell_type": "code",
   "execution_count": 36,
   "id": "a6e46f9c",
   "metadata": {},
   "outputs": [
    {
     "name": "stdout",
     "output_type": "stream",
     "text": [
      "[(), (1,), (2,), (3,), (1, 2), (1, 3), (2, 3), (1, 2, 3)]\n"
     ]
    }
   ],
   "source": [
    "# PowerSet\n",
    "\n",
    "from itertools import combinations\n",
    "\n",
    "set_1 = {1, 2, 3}\n",
    "result = []\n",
    "\n",
    "for lng in range(len(set_1) + 1):\n",
    "    selection = list(combinations(set_1, lng))\n",
    "    result.extend(selection)\n",
    "\n",
    "print(result)"
   ]
  },
  {
   "cell_type": "markdown",
   "id": "7bb10cc5",
   "metadata": {},
   "source": [
    "## Problems"
   ]
  },
  {
   "cell_type": "code",
   "execution_count": 37,
   "id": "bda5b972",
   "metadata": {},
   "outputs": [
    {
     "name": "stdout",
     "output_type": "stream",
     "text": [
      "4\n"
     ]
    }
   ],
   "source": [
    "# Count unique elements in list\n",
    "nums = [1, 1, 2, 3, 3, 4, 4, 4, 4]\n",
    "print(len(set(nums)))"
   ]
  },
  {
   "cell_type": "code",
   "execution_count": 39,
   "id": "cc1834f8",
   "metadata": {},
   "outputs": [
    {
     "name": "stdout",
     "output_type": "stream",
     "text": [
      "Using set:\n",
      "1 2\n",
      "2 1\n",
      "3 2\n",
      "4 4\n",
      "Using dict:\n",
      "{1: 2, 2: 1, 3: 2, 4: 4}\n",
      "Using collections:\n",
      "Counter({4: 4, 1: 2, 3: 2, 2: 1})\n"
     ]
    }
   ],
   "source": [
    "# Count each unique elements repeats in list\n",
    "nums = [1, 1, 2, 3, 3, 4, 4, 4, 4]\n",
    "\n",
    "print(\"Using set:\")\n",
    "for x in set(nums):\n",
    "    print(x, nums.count(x))\n",
    "\n",
    "print(\"Using dict:\")\n",
    "result = {}\n",
    "for x in nums:\n",
    "    if x in result:\n",
    "        result[x] += 1\n",
    "    else:\n",
    "        result[x] = 1\n",
    "print(result)\n",
    "\n",
    "print(\"Using collections:\")\n",
    "from collections import Counter\n",
    "print(Counter(nums))"
   ]
  },
  {
   "cell_type": "code",
   "execution_count": 40,
   "id": "a7c01a19",
   "metadata": {},
   "outputs": [
    {
     "name": "stdout",
     "output_type": "stream",
     "text": [
      "2\n"
     ]
    }
   ],
   "source": [
    "# Sum of numbers which has been repeated only one time\n",
    "\n",
    "from collections import Counter\n",
    "\n",
    "sum = 0\n",
    "cnt = Counter(nums)\n",
    "for x in cnt:\n",
    "    if cnt[x] == 1:\n",
    "        sum += x\n",
    "print(sum)"
   ]
  }
 ],
 "metadata": {
  "kernelspec": {
   "display_name": "Python 3",
   "language": "python",
   "name": "python3"
  },
  "language_info": {
   "codemirror_mode": {
    "name": "ipython",
    "version": 3
   },
   "file_extension": ".py",
   "mimetype": "text/x-python",
   "name": "python",
   "nbconvert_exporter": "python",
   "pygments_lexer": "ipython3",
   "version": "3.12.3"
  }
 },
 "nbformat": 4,
 "nbformat_minor": 5
}
