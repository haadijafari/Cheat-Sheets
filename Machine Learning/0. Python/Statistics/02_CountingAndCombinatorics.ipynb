{
 "cells": [
  {
   "cell_type": "markdown",
   "id": "3f309660",
   "metadata": {},
   "source": [
    "## Problems"
   ]
  },
  {
   "cell_type": "code",
   "execution_count": 1,
   "id": "77e0a7cf",
   "metadata": {},
   "outputs": [
    {
     "name": "stdout",
     "output_type": "stream",
     "text": [
      "4464\n"
     ]
    }
   ],
   "source": [
    "# Count number of 4 digit with duplicate\n",
    "\n",
    "count = 0\n",
    "for num in range(1000, 10000):\n",
    "    if len(str(num)) != len(set(str(num))):\n",
    "        count += 1\n",
    "print(count)"
   ]
  },
  {
   "cell_type": "code",
   "execution_count": 2,
   "id": "f1294b6b",
   "metadata": {},
   "outputs": [
    {
     "name": "stdout",
     "output_type": "stream",
     "text": [
      "138\n"
     ]
    }
   ],
   "source": [
    "# Count permutation of Pencil start with P or contains Pen\n",
    "\n",
    "from itertools import permutations\n",
    "\n",
    "pencil_p = permutations('pencil')\n",
    "count = 0\n",
    "\n",
    "for per in pencil_p:\n",
    "    if per[0] == 'p' or 'pen' in ''.join(per):\n",
    "        count += 1\n",
    "\n",
    "print(count)"
   ]
  },
  {
   "cell_type": "code",
   "execution_count": 5,
   "id": "927dd6e3",
   "metadata": {},
   "outputs": [
    {
     "data": {
      "text/plain": [
       "[(1, 4), (2, 5), (3, 6)]"
      ]
     },
     "execution_count": 5,
     "metadata": {},
     "output_type": "execute_result"
    }
   ],
   "source": [
    "list(enumerate([4, 5, 6], start=1))"
   ]
  },
  {
   "cell_type": "code",
   "execution_count": 6,
   "id": "70bae919",
   "metadata": {},
   "outputs": [
    {
     "name": "stdout",
     "output_type": "stream",
     "text": [
      "24\n"
     ]
    }
   ],
   "source": [
    "# Count the number of times when people from 1 to 4 are in \n",
    "# the right place (eg. person one is placed at first) \n",
    "# when you are placing them in different orders\n",
    "\n",
    "from itertools import permutations\n",
    "\n",
    "count = 0\n",
    "for per in permutations(list(range(1,5))):\n",
    "    for place, person_number in enumerate(per, start=1):\n",
    "        if place == person_number:\n",
    "            count += 1\n",
    "\n",
    "print(count)"
   ]
  },
  {
   "cell_type": "code",
   "execution_count": 8,
   "id": "086939e6",
   "metadata": {},
   "outputs": [
    {
     "name": "stdout",
     "output_type": "stream",
     "text": [
      "6\n"
     ]
    }
   ],
   "source": [
    "# Count permutations of 2 Oranges and 2 Apples\n",
    "\n",
    "from itertools import permutations\n",
    "\n",
    "unique_per_count = 0\n",
    "frt = permutations('OOAA')\n",
    "for per in set(frt):\n",
    "    unique_per_count += 1\n",
    "\n",
    "print(unique_per_count)"
   ]
  },
  {
   "cell_type": "code",
   "execution_count": 9,
   "id": "88e6d128",
   "metadata": {},
   "outputs": [
    {
     "name": "stdout",
     "output_type": "stream",
     "text": [
      "151200\n"
     ]
    }
   ],
   "source": [
    "# Count permutation of 3 boys and 6 girls (doesn't contain 2 boys beside)\n",
    "\n",
    "from itertools import permutations\n",
    "\n",
    "count = 0\n",
    "for per in permutations('B'*3 + 'G'*6):\n",
    "    if 'BB' not in ''.join(per):\n",
    "        count += 1\n",
    "\n",
    "print(count)"
   ]
  },
  {
   "cell_type": "markdown",
   "id": "f50aa72e",
   "metadata": {},
   "source": [
    "# Itertools\n",
    "* Counting\n",
    "   * Permutations\n",
    "   * Combinations\n",
    "   * Combinations with Replacement\n",
    "   * Product"
   ]
  },
  {
   "cell_type": "markdown",
   "id": "7231384d",
   "metadata": {},
   "source": [
    "## Counting"
   ]
  },
  {
   "cell_type": "code",
   "execution_count": null,
   "id": "fcc1aa7b",
   "metadata": {},
   "outputs": [
    {
     "name": "stdout",
     "output_type": "stream",
     "text": [
      "[(1, 2, 3), (1, 3, 2), (2, 1, 3), (2, 3, 1), (3, 1, 2), (3, 2, 1)]\n"
     ]
    }
   ],
   "source": [
    "# Permutation (permutations(p): all the possible orders of items p)\n",
    "\n",
    "from itertools import permutations\n",
    "\n",
    "print(list(permutations([1,2,3])))"
   ]
  },
  {
   "cell_type": "code",
   "execution_count": null,
   "id": "ec8ba8d2",
   "metadata": {},
   "outputs": [
    {
     "name": "stdout",
     "output_type": "stream",
     "text": [
      "[(1, 2), (1, 3), (2, 3)]\n"
     ]
    }
   ],
   "source": [
    "# Combinations (combinations(p, r): Choosing r from p)\n",
    "\n",
    "from itertools import combinations\n",
    "\n",
    "print(list(combinations([1,2,3], 2)))"
   ]
  },
  {
   "cell_type": "code",
   "execution_count": 13,
   "id": "44b7cffa",
   "metadata": {},
   "outputs": [
    {
     "name": "stdout",
     "output_type": "stream",
     "text": [
      "[(1, 1), (1, 2), (1, 3), (2, 2), (2, 3), (3, 3)]\n"
     ]
    }
   ],
   "source": [
    "# Combinations (combinations with repeated elements)\n",
    "\n",
    "from itertools import combinations_with_replacement\n",
    "\n",
    "print(list(combinations_with_replacement([1,2,3], 2)))"
   ]
  },
  {
   "cell_type": "code",
   "execution_count": 15,
   "id": "3724a03c",
   "metadata": {},
   "outputs": [
    {
     "name": "stdout",
     "output_type": "stream",
     "text": [
      "[(1, 4), (1, 5), (2, 4), (2, 5), (3, 4), (3, 5)]\n"
     ]
    }
   ],
   "source": [
    "# Product (Cartesian product)\n",
    "\n",
    "from itertools import product\n",
    "\n",
    "print(list(product([1, 2, 3], [4, 5])))"
   ]
  }
 ],
 "metadata": {
  "kernelspec": {
   "display_name": "Python 3",
   "language": "python",
   "name": "python3"
  },
  "language_info": {
   "codemirror_mode": {
    "name": "ipython",
    "version": 3
   },
   "file_extension": ".py",
   "mimetype": "text/x-python",
   "name": "python",
   "nbconvert_exporter": "python",
   "pygments_lexer": "ipython3",
   "version": "3.12.3"
  }
 },
 "nbformat": 4,
 "nbformat_minor": 5
}
